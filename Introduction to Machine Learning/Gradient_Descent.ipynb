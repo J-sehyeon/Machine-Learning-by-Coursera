{
 "cells": [
  {
   "cell_type": "markdown",
   "id": "1ece8768",
   "metadata": {},
   "source": [
    "# Gradient Descent for Linear Regression\n",
    "> automating the process of optimizing w and b using gradient descent"
   ]
  },
  {
   "cell_type": "markdown",
   "id": "deffec54",
   "metadata": {},
   "source": [
    "## Knowledge\n",
    "1. Linear Regression : $f_{w,b}(x^{(i)})$\n",
    "$$f_{w,b}(x^{(i)}) = wx^{(i)} + b \\tag{1}$$\n",
    "\n",
    "2. Cost Function : $J(w,b)$\n",
    "$$J(w, b) = \\frac{1}{2m} \\sum\\limits_{i = 0}^{m-1} (f_{w,b}(x^{(i)}) - y^{(i)})^2\\tag{2}$$ \n",
    "\n",
    "3. Gradient Descent\n",
    "$$\\begin{align*} \\text{repeat}&\\text{ until convergence:} \\; \\lbrace \\newline\n",
    "\\;  w &= w -  \\alpha \\frac{\\partial J(w,b)}{\\partial w} = w - \\alpha(\\frac{1}{m} \\sum\\limits_{i = 0}^{m-1} (f_{w,b}(x^{(i)}) - y^{(i)})x^{(i)})\\tag{3}  \\; \\newline \n",
    " b &= b -  \\alpha \\frac{\\partial J(w,b)}{\\partial b} = b - \\alpha(\\frac{1}{m} \\sum\\limits_{i = 0}^{m-1} (f_{w,b}(x^{(i)}) - y^{(i)}))\\tag{4} \\newline \\rbrace\n",
    "\\end{align*}$$\n",
    "\n"
   ]
  },
  {
   "cell_type": "markdown",
   "id": "ab4b5f77",
   "metadata": {},
   "source": [
    "## Index\n",
    "I'll make a functions that shows costs, alpha, gradients, and parameters.\n",
    "So that, the relation between cost and gradient becomes clear, and you can know what the (w, b) is."
   ]
  },
  {
   "cell_type": "code",
   "execution_count": 10,
   "id": "3018e55f",
   "metadata": {},
   "outputs": [],
   "source": [
    "import math, copy\n",
    "import numpy as np\n",
    "import matplotlib.pyplot as plt\n",
    "plt.style.use('./deeplearning.mplstyle')"
   ]
  },
  {
   "cell_type": "code",
   "execution_count": 11,
   "id": "1794752f",
   "metadata": {},
   "outputs": [],
   "source": [
    "# Load our data set\n",
    "x_train = np.array([1.0, 2.0])      # features\n",
    "y_train = np.array([300.0, 500.0])  # target value"
   ]
  },
  {
   "cell_type": "code",
   "execution_count": null,
   "id": "dc7e5a1d",
   "metadata": {},
   "outputs": [],
   "source": [
    "# Function to calculate the cost\n",
    "def compute_cost(x, y, w, b):\n",
    "\n",
    "    m = x.shape[0]      # m-vector\n",
    "    cost = 0\n",
    "\n",
    "    for i in range(m):\n",
    "        f_wb = w * x[i] + b\n",
    "        cost += (f_wb - y[i])**2\n",
    "    total_cost = 1 / (2 * m) * cost\n",
    "\n",
    "    return total_cost"
   ]
  },
  {
   "cell_type": "code",
   "execution_count": null,
   "id": "78385e75",
   "metadata": {},
   "outputs": [],
   "source": [
    "# Function to compute the gradient of cost function\n",
    "def compute_gradient(x, y, w, b):\n",
    "    \"\"\"\n",
    "    Computes the gradient for linear regression\n",
    "    Args:\n",
    "      x (ndarray (m,)): Data, m examples\n",
    "      y (ndarray (m,)): target values\n",
    "      w, b (scalar)   : model parameters\n",
    "    Returns\n",
    "      dj_dw (scalar): The gradient of the cost w.r.t. the parameter w\n",
    "      dj_db (scalar): The gradient of the cost w.r.t. the parameter b\n",
    "    \"\"\"\n",
    "\n",
    "    # Number of training examples\n",
    "\n",
    "    m = x.shape[0]\n",
    "    dj_dw = 0\n",
    "    dj_db = 0\n",
    "\n",
    "    for i in range(m):\n",
    "        dj_dw += (w * x[i] + b - y[i]) * x[i]\n",
    "        dj_db += w * x[i] + b - y[i]\n",
    "    return dj_dw / m , dj_db / m"
   ]
  },
  {
   "cell_type": "code",
   "execution_count": 8,
   "id": "fc30ea5c",
   "metadata": {},
   "outputs": [],
   "source": [
    "# Function to compute gradient descent\n",
    "def gradient_descent(x, y, w_in, b_in, alpha, num_iters, cost_function, gradient_function):\n",
    "    \"\"\"\n",
    "    Performs gradient descent to fit w,b.\n",
    "    Updates w, b by taking num_iters gradient steps learning rate alpha\n",
    "\n",
    "    Args:\n",
    "      x (ndarray (m,))   : Data, m examples\n",
    "      y (ndarray (m,))   : target values\n",
    "      w_in, b_in (scalar): initial values of model parameters\n",
    "      alpha (float)      : learning rate\n",
    "      num_iters (int)    : number of iterators to run gradient descent\n",
    "      cost_function      : function to call to produce cost\n",
    "      gradient_function  : function to call to produce gradient\n",
    "\n",
    "    Returns:\n",
    "      w (scalar): updated value of parameter after running gradient descent\n",
    "      b (scalar): updated value of parameter after running gradient descent\n",
    "      J_history (list): History of cost values\n",
    "      p_history (list): History of parameters [w,b]\n",
    "    \"\"\"\n",
    "\n",
    "    # An array to store cost J and w's at each iteration\n",
    "\n",
    "    J_history = []\n",
    "    p_history = []\n",
    "    b = b_in\n",
    "    w = w_in\n",
    "\n",
    "    for i in range(num_iters):\n",
    "        # Calculate the gradient and update the parameters using gradient_function\n",
    "        dj_dw, dj_db = gradient_function(x, y, w, b)\n",
    "\n",
    "        # Update Parameters using equation (3) and (4) above\n",
    "        w = w - alpha * dj_dw\n",
    "        b = b - alpha * dj_db\n",
    "\n",
    "        # Save cost J at each iteration\n",
    "        if i<10000:       # prevent resource exhaustion\n",
    "            J_history.append(cost_function(x, y, w, b))\n",
    "            p_history.append([w, b])\n",
    "        # print cost every at intervals 10 times or as many iterations if < 10\n",
    "        if i % math.ceil(num_iters/10) == 0:\n",
    "            print(f\"Iteration {i:4}: Cost {J_history[-1]:0.2e} \",\n",
    "                  f\"dj_dw: {dj_dw: 0.3e}, dj_db: {dj_db: 0.3e} \",\n",
    "                  f\"w: {w: 0.3e}, b: {b: 0.5e}\")\n",
    "    return w, b, J_history, p_history   # return "
   ]
  },
  {
   "cell_type": "code",
   "execution_count": null,
   "id": "75884222",
   "metadata": {},
   "outputs": [
    {
     "name": "stdout",
     "output_type": "stream",
     "text": [
      "Iteration    0: Cost 7.93e+04  dj_dw: -6.500e+02, dj_db: -4.000e+02  w:  6.500e+00, b:  4.00000e+00\n",
      "Iteration 1000: Cost 3.41e+00  dj_dw: -3.712e-01, dj_db:  6.007e-01  w:  1.949e+02, b:  1.08228e+02\n",
      "Iteration 2000: Cost 7.93e-01  dj_dw: -1.789e-01, dj_db:  2.895e-01  w:  1.975e+02, b:  1.03966e+02\n",
      "Iteration 3000: Cost 1.84e-01  dj_dw: -8.625e-02, dj_db:  1.396e-01  w:  1.988e+02, b:  1.01912e+02\n",
      "Iteration 4000: Cost 4.28e-02  dj_dw: -4.158e-02, dj_db:  6.727e-02  w:  1.994e+02, b:  1.00922e+02\n",
      "Iteration 5000: Cost 9.95e-03  dj_dw: -2.004e-02, dj_db:  3.243e-02  w:  1.997e+02, b:  1.00444e+02\n",
      "Iteration 6000: Cost 2.31e-03  dj_dw: -9.660e-03, dj_db:  1.563e-02  w:  1.999e+02, b:  1.00214e+02\n",
      "Iteration 7000: Cost 5.37e-04  dj_dw: -4.657e-03, dj_db:  7.535e-03  w:  1.999e+02, b:  1.00103e+02\n",
      "Iteration 8000: Cost 1.25e-04  dj_dw: -2.245e-03, dj_db:  3.632e-03  w:  2.000e+02, b:  1.00050e+02\n",
      "Iteration 9000: Cost 2.90e-05  dj_dw: -1.082e-03, dj_db:  1.751e-03  w:  2.000e+02, b:  1.00024e+02\n",
      "(w,b) found by gradient descent: (199.9929, 100.0116)\n"
     ]
    }
   ],
   "source": [
    "# Initialize parameters\n",
    "w_init = 0\n",
    "b_init = 0\n",
    "\n",
    "# Some gradient descent settings\n",
    "iterations = 10000\n",
    "tmp_alpha = 1.0e-2\n",
    "\n",
    "# Run gradient descent\n",
    "w_final, b_final, J_hist, p_hist = gradient_descent(x_train, y_train, w_init, b_init, tmp_alpha,\n",
    "                                                    iterations, compute_cost, compute_gradient)\n",
    "\n",
    "print(f\"(w,b) found by gradient descent: ({w_final:8.4f}, {b_final:8.4f})\")"
   ]
  },
  {
   "cell_type": "markdown",
   "id": "17b873e6",
   "metadata": {},
   "source": [
    "The cost starts large and rapidly declines, and `dj_dw`, and `dj_db` also get smaller, rapidly at first and then more slowly."
   ]
  },
  {
   "cell_type": "markdown",
   "id": "c2f43867",
   "metadata": {},
   "source": [
    "### Predictions"
   ]
  },
  {
   "cell_type": "code",
   "execution_count": 14,
   "id": "7184a028",
   "metadata": {},
   "outputs": [
    {
     "name": "stdout",
     "output_type": "stream",
     "text": [
      "1000 sqft house prediction 300.0 Thousnad dollars\n",
      "1200 sqft house prediction 340.0 Thousnad dollars\n",
      "2000 sqft house prediction 500.0 Thousnad dollars\n"
     ]
    }
   ],
   "source": [
    "print(f\"1000 sqft house prediction {w_final * 1.0 + b_final:0.1f} Thousnad dollars\")\n",
    "print(f\"1200 sqft house prediction {w_final * 1.2 + b_final:0.1f} Thousnad dollars\")\n",
    "print(f\"2000 sqft house prediction {w_final * 2.0 + b_final:0.1f} Thousnad dollars\")"
   ]
  },
  {
   "cell_type": "markdown",
   "id": "7b239f92",
   "metadata": {},
   "source": [
    "## Conclusion\n",
    "\n",
    "선형 회귀란 입력 x에 대해 출력 y를 함수 `f(x) = wx + b` 로 예측하는 모델이다.\n",
    "이 모델의 변수인 w와 b 값을 찾는 과정으로 경사 하강법을 보였다.\n",
    "경사 하강법이란, 어느 한 점에서 그 점에서의 기울기에 학습률을 곱한 만큼 이동하는 방법이다.\n",
    "여기서 변수는 두 개 이므로 편미분을 통해 계산하게 된다.\n",
    "이를 w와 b의 값이 변하지 않을 때까지, 즉 기울기가 0이 될 때까지 진행하여 최종적인 [w,b]를 구한다.\n",
    "\n",
    "여기에선 주택의 가격을 예측하는 프로그램을 작성했다.\n",
    "아쉬운 점으로는 데이터의 부족이다. \n",
    "주택의 넓이와 가격에 관한 데이터의 크기가 2밖에 안되어 좀 더 사실적인 결과를 만들진 못했다.\n",
    "다만, 코드 자체는 데이터의 크기에 관계없이 일반적인 경우로 작성했으므로, 코드를 어떻게 작성하는지를 공부하는 나에게는 상관이 없는 문제이다.\n",
    "\n",
    "여기서 학습률을 크게 조정하면 [w,b]가 발산한다.\n",
    "\n",
    "비용함수를 평균제곱오차(MSE)를 통해 구했기 때문에 비용함수의 그래프는 반드시 유일한 최소값을 갖게 된다. 따라서 경사 하강법의 결과가 국소값에 빠지는 문제로부터 자유로울 수 있다."
   ]
  }
 ],
 "metadata": {
  "kernelspec": {
   "display_name": "virtualenv_1",
   "language": "python",
   "name": "python3"
  },
  "language_info": {
   "codemirror_mode": {
    "name": "ipython",
    "version": 3
   },
   "file_extension": ".py",
   "mimetype": "text/x-python",
   "name": "python",
   "nbconvert_exporter": "python",
   "pygments_lexer": "ipython3",
   "version": "3.13.2"
  }
 },
 "nbformat": 4,
 "nbformat_minor": 5
}
