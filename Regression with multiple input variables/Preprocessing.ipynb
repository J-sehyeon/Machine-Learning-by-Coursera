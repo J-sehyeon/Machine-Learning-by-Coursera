{
 "cells": [
  {
   "cell_type": "markdown",
   "id": "5b53eb46",
   "metadata": {},
   "source": [
    "# Data Preprocessing and Multiple linear regression\n",
    "> optimizing the data to make gradient descent process faster"
   ]
  },
  {
   "cell_type": "markdown",
   "id": "0b830cbd",
   "metadata": {},
   "source": [
    "### Introduction\n",
    "While making multiple linear regression, i'll study Feature scaling, learning rate, feature engineering, and how `X_train` works compared to single linear regression.\n",
    "\n",
    "1. dataset\n",
    "2. useful tools\n",
    "3. "
   ]
  },
  {
   "cell_type": "markdown",
   "id": "61995793",
   "metadata": {},
   "source": [
    "#### 1. Dataset\n",
    "I'll use \"Medical Cost Personal Datasets\" from 'Kaggle', but only for 400 smaples, and without 'children', 'region' properties."
   ]
  },
  {
   "cell_type": "code",
   "execution_count": 8,
   "id": "7f761634",
   "metadata": {},
   "outputs": [],
   "source": [
    "import pandas as pd\n",
    "import numpy as np"
   ]
  },
  {
   "cell_type": "code",
   "execution_count": null,
   "id": "2391a46a",
   "metadata": {},
   "outputs": [
    {
     "name": "stdout",
     "output_type": "stream",
     "text": [
      "   age     sex     bmi  children smoker     region      charges\n",
      "0   19  female  27.900         0    yes  southwest  16884.92400\n",
      "1   18    male  33.770         1     no  southeast   1725.55230\n",
      "2   28    male  33.000         3     no  southeast   4449.46200\n",
      "3   33    male  22.705         0     no  northwest  21984.47061\n",
      "4   32    male  28.880         0     no  northwest   3866.85520\n",
      "   age  sex     bmi  smoker\n",
      "0   19    0  27.900       1\n",
      "1   18    1  33.770       0\n",
      "2   28    1  33.000       0\n",
      "3   33    1  22.705       0\n",
      "4   32    1  28.880       0\n",
      "0    16884.92400\n",
      "1     1725.55230\n",
      "2     4449.46200\n",
      "3    21984.47061\n",
      "4     3866.85520\n",
      "Name: charges, dtype: float64\n"
     ]
    },
    {
     "name": "stderr",
     "output_type": "stream",
     "text": [
      "/var/folders/2v/b65115v14cvgvjztf82wr9x80000gn/T/ipykernel_32995/469286569.py:4: FutureWarning: Downcasting behavior in `replace` is deprecated and will be removed in a future version. To retain the old behavior, explicitly call `result.infer_objects(copy=False)`. To opt-in to the future behavior, set `pd.set_option('future.no_silent_downcasting', True)`\n",
      "  df['sex'] = df['sex'].replace({'male': 1, 'female': 0})\n",
      "/var/folders/2v/b65115v14cvgvjztf82wr9x80000gn/T/ipykernel_32995/469286569.py:5: FutureWarning: Downcasting behavior in `replace` is deprecated and will be removed in a future version. To retain the old behavior, explicitly call `result.infer_objects(copy=False)`. To opt-in to the future behavior, set `pd.set_option('future.no_silent_downcasting', True)`\n",
      "  df['smoker'] = df['smoker'].replace({'yes': 1, 'no': 0})\n"
     ]
    }
   ],
   "source": [
    "# 데이터를 불러온 뒤 피처와 타깃으로 분류\n",
    "df = pd.read_csv('data.txt')\n",
    "print(df.head())\n",
    "\n",
    "# 범주형 데이터를 이진 벡터로 표현\n",
    "df['sex'] = df['sex'].replace({'male': 1, 'female': 0})\n",
    "df['smoker'] = df['smoker'].replace({'yes': 1, 'no': 0})\n",
    "\n",
    "X_train = df[['age', 'sex', 'bmi', 'smoker']]\n",
    "print(X_train.head())\n",
    "y_train = df['charges']\n",
    "print(y_train.head())"
   ]
  },
  {
   "cell_type": "code",
   "execution_count": 6,
   "id": "cd083d69",
   "metadata": {},
   "outputs": [
    {
     "name": "stdout",
     "output_type": "stream",
     "text": [
      "(400, 4)\n",
      "[[19.     0.    27.9    1.   ]\n",
      " [18.     1.    33.77   0.   ]\n",
      " [28.     1.    33.     0.   ]\n",
      " [33.     1.    22.705  0.   ]]\n"
     ]
    }
   ],
   "source": [
    "# 데이터프레임을 Numpy 배열로 변환\n",
    "X_tr = X_train.to_numpy()\n",
    "y_tr = y_train.to_numpy()\n",
    "\n",
    "print(X_tr.shape)\n",
    "print(X_tr[:4])"
   ]
  },
  {
   "cell_type": "markdown",
   "id": "6dca036f",
   "metadata": {},
   "source": [
    "### Feature scaling using \"Z-score normalization\"\n",
    "To make all features upgrade through equal progress\n",
    "\n",
    "$$z = (x - \\mu )/\\sigma$$\n",
    "$$\\mu_j = \\frac{1}{m} \\sum_{i=0}^{m-1} x^{(i)}_j $$\n",
    "$$\\sigma^2_j = \\frac{1}{m} \\sum_{i=0}^{m-1} (x^{(i)}_j - \\mu_j)^2$$"
   ]
  },
  {
   "cell_type": "code",
   "execution_count": 42,
   "id": "6b441714",
   "metadata": {},
   "outputs": [
    {
     "name": "stdout",
     "output_type": "stream",
     "text": [
      "0.0 4.440892098500626e-18\n",
      "1.0 1.0\n",
      "0.0\n",
      "1.7763568394002505e-15\n"
     ]
    }
   ],
   "source": [
    "# normalize features 'age', and 'bmi'\n",
    "\n",
    "age_mu, _, bmi_mu, _ = np.mean(X_tr, axis=0)\n",
    "print(age_mu, bmi_mu)\n",
    "age_std, _, bmi_std, _ = np.std(X_tr, axis = 0)\n",
    "print(age_std, bmi_std)\n",
    "\n",
    "X_tr[:, 0] = (X_tr[:, 0] - age_mu) / age_std\n",
    "print(np.sum(X_tr[:, 0]))\n",
    "X_tr[:, 2] = (X_tr[:, 2] - bmi_mu) / bmi_std\n",
    "print(np.sum(X_tr[:, 2]))"
   ]
  },
  {
   "cell_type": "code",
   "execution_count": null,
   "id": "258325b5",
   "metadata": {},
   "outputs": [],
   "source": [
    "# "
   ]
  }
 ],
 "metadata": {
  "kernelspec": {
   "display_name": "virtualenv_1",
   "language": "python",
   "name": "python3"
  },
  "language_info": {
   "codemirror_mode": {
    "name": "ipython",
    "version": 3
   },
   "file_extension": ".py",
   "mimetype": "text/x-python",
   "name": "python",
   "nbconvert_exporter": "python",
   "pygments_lexer": "ipython3",
   "version": "3.13.2"
  }
 },
 "nbformat": 4,
 "nbformat_minor": 5
}
